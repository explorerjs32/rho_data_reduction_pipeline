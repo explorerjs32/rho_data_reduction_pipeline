{
 "cells": [
  {
   "cell_type": "markdown",
   "id": "78dc8783",
   "metadata": {},
   "source": [
    "<h1> <center> RETRHO PSF Photometry Tool </center> </h1>\n",
    "<h2> <center> Timeseries Analysis </center> </h2>\n",
    "\n",
    "This notebook provides an example of how to visualize and analyze the photometric measurements using the RETRHO PSF Photometry Tool for one or muttiple nights. This notebook will show you how you can:\n",
    "\n",
    "1. Visualize the PSF contour around the selected stars\n",
    "2. Visualize the measured flux for the main target as well as the different reference stars to facilitate the reference star selection\n",
    "3. Compute and display the flux ratio between the main target and the reference stars with the propagated uncertainties\n",
    "\n",
    "**NOTE**\n",
    "This tool is more helpful if it's used to measure and visualize the photometric measurements of:\n",
    "\n",
    "- Exoplanet Transits\n",
    "- Variable Stars\n",
    "- Supernovae (could vary depending on the ovearll brightness. Further tests need to be done)"
   ]
  },
  {
   "cell_type": "code",
   "execution_count": null,
   "id": "988bda4a",
   "metadata": {},
   "outputs": [],
   "source": [
    "import pandas as pd\n",
    "import numpy as np\n",
    "import matplotlib.pyplot as plt\n",
    "from astropy.io import fits\n",
    "from astropy.visualization import ZScaleInterval, ImageNormalize\n",
    "from astropy.stats import sigma_clipped_stats\n",
    "from scipy import ndimage\n",
    "import os\n"
   ]
  },
  {
   "cell_type": "markdown",
   "id": "86e6795b",
   "metadata": {},
   "source": [
    "## Import the data\n",
    "\n",
    "We start by loading up the directory (or directories) where the reduced files of a given object are. If the same object was observed during multiple nights, then add a directory to the list. \n",
    "\n",
    "If you observed the object for mutiple nights, make sure to select the same reference stars in the same order for the different observing nights"
   ]
  },
  {
   "cell_type": "code",
   "execution_count": null,
   "id": "6fd9e3ad",
   "metadata": {},
   "outputs": [],
   "source": [
    "# Define the directory where the reduced files and the PSF photometry results are stored\n",
    "# the format of this list is: ['path/to/data_directory1/', 'path/to/data_directory2/', ...]\n",
    "data_directory_list = [] # Change based on the date and object name and add more directories if needed"
   ]
  },
  {
   "cell_type": "code",
   "execution_count": null,
   "id": "d67e1215",
   "metadata": {},
   "outputs": [],
   "source": [
    "# Interpolate over multiple directories to extract the data and create a composite dataframe\n",
    "dataframes = []\n",
    "\n",
    "for data_directory in data_directory_list:\n",
    "    # Define the PSF photometry results directory and filename\n",
    "    psf_photometry_directory = os.path.join(data_directory, 'PSF_Photometry_Results/')\n",
    "    psf_photometry_filename = [f for f in os.listdir(psf_photometry_directory) if f.endswith('_psf_photometry.csv')][0]\n",
    "\n",
    "    # Open the PSF photometry Dataframe\n",
    "    photometry_data = pd.read_csv(os.path.join(psf_photometry_directory, psf_photometry_filename))\n",
    "\n",
    "    # Add the data directory as a new column at the beginning to identify the night\n",
    "    photometry_data.insert(0, 'Data_Directory', data_directory)\n",
    "    dataframes.append(photometry_data)\n",
    "\n",
    "# Concatenate all dataframes into a single dataframe\n",
    "psf_photometry_df = pd.concat(dataframes, ignore_index=True)\n",
    "\n",
    "print(f\"There are a total of {len(psf_photometry_df)} photometric measurements from {len(data_directory_list)} observing nights.\")\n",
    "psf_photometry_df.head()"
   ]
  },
  {
   "cell_type": "markdown",
   "id": "c939d757",
   "metadata": {},
   "source": [
    "## Visualize Star Positions and the PSF Contours\n",
    "\n",
    "Once you have the composte dataframe with all the photometric measurements, you can display the different stars that were used to measure photometry for and display the computed PSF. You can change the `image_index` variable to select a different image to display. \n",
    "\n",
    "The first cell bellow will show the full reduced frame along with the different stars selected for photometric calculations and their respective IDs. The cell after that shows a sub-plot zoomed in into each individual star to trace the PSF contour that was used to measure the star flux"
   ]
  },
  {
   "cell_type": "code",
   "execution_count": null,
   "id": "98170b57",
   "metadata": {},
   "outputs": [],
   "source": [
    "image_index = 5  # Change this index to read different images"
   ]
  },
  {
   "cell_type": "code",
   "execution_count": null,
   "id": "08c144d6",
   "metadata": {},
   "outputs": [],
   "source": [
    "# Read in the image files based on index number. Remember that index = 0 represents the first image\n",
    "image_file = os.path.join(psf_photometry_df.loc[image_index, 'Data_Directory'], psf_photometry_df.loc[image_index, 'File'])\n",
    "\n",
    "# Figure out how many stars were analyzed in the PSF photometry\n",
    "num_stars = len([col for col in psf_photometry_df.columns if col.startswith('Flux_Star_')])\n",
    "\n",
    "# Get the X, Y positions of the stars from the DataFrame\n",
    "star_positions = [(psf_photometry_df.loc[image_index, f'Star_{i+1}_x'], \\\n",
    "                   psf_photometry_df.loc[image_index, f'Star_{i+1}_y']) \\\n",
    "                   for i in range(num_stars)\n",
    "                ]\n",
    "\n",
    "# Extract basic information from the FITS header\n",
    "header = fits.getheader(image_file)\n",
    "object_name = header.get('OBJECT', 'Unknown')\n",
    "filter_ = header.get('FILTER', 'Unknown')\n",
    "exptime = header.get('EXPTIME', 1.0)\n",
    "\n",
    "print(f\"Object Name: {object_name}\")\n",
    "print(f\"Exposure Time: {exptime} seconds\")\n",
    "print(f\"Filter: {filter_}\")\n",
    "print(f\"Total selected stars for PSF photometry: {num_stars}\")\n",
    "\n",
    "# Extract the image data and normalize it to ZScale\n",
    "image_data = fits.getdata(image_file)\n",
    "norm = ImageNormalize(image_data, interval=ZScaleInterval())\n",
    "\n",
    "# Plot the image with star positions marked\n",
    "fig, ax = plt.subplots(1,1, figsize=(10, 10))\n",
    "ax.imshow(image_data, origin='lower', cmap='gray', norm=norm)\n",
    "\n",
    "for i, (x, y) in enumerate(star_positions):\n",
    "    ax.plot(x, y, 'rx', markersize=15, markeredgewidth=1)\n",
    "    ax.text(x + 10, y + 10, f'Star {i+1}', color='yellow', fontsize=12)\n",
    "\n",
    "ax.set_title(f\"Star Positions PSF Photometry - {os.path.basename(image_file)}\", size=14)\n",
    "\n",
    "ax.axis('off')\n",
    "plt.show()"
   ]
  },
  {
   "cell_type": "code",
   "execution_count": null,
   "id": "118b9d57",
   "metadata": {},
   "outputs": [],
   "source": [
    "# Define the star window size\n",
    "width, height = 40, 40\n",
    "\n",
    "# Define the figure to plot the PSF\n",
    "if num_stars % 2 == 0:\n",
    "    ncols = 2\n",
    "    nrows = num_stars // 2\n",
    "else:\n",
    "    ncols = 3\n",
    "    nrows = (num_stars + 2) // 3\n",
    "fig, ax = plt.subplots(nrows, ncols, figsize=(10, 10), tight_layout=True)\n",
    "\n",
    "# Interpolate over the star peaks to isolate the PSF\n",
    "for i, (xc, yc) in enumerate(star_positions):\n",
    "    \n",
    "    # Create the star cutout for each star\n",
    "    star_cutout = image_data[yc - height//2:yc + height//2, xc - width//2:xc + width//2]\n",
    "    \n",
    "    # Calculate the statistics of the star cutout and define the threshold\n",
    "    mean, median, std = sigma_clipped_stats(star_cutout, sigma=3.0)\n",
    "    threshold = median + 3 * std\n",
    "\n",
    "    # Create initial mask of pixels above threshold\n",
    "    bright_pixels = star_cutout > threshold\n",
    "    \n",
    "    # Label connected regions to identify separate bright areas\n",
    "    labeled_regions, num_regions = ndimage.label(bright_pixels)\n",
    "    \n",
    "    # Define the center coordinates in the cutout\n",
    "    center_y, center_x = height//2, width//2\n",
    "    \n",
    "    # Find which region contains the center\n",
    "    center_region = labeled_regions[center_y, center_x]\n",
    "    \n",
    "    # If center is not in a bright region, find the nearest one\n",
    "    if center_region == 0:\n",
    "        y, x = np.ogrid[:star_cutout.shape[0], :star_cutout.shape[1]]\n",
    "        distance = np.sqrt((x - center_x)**2 + (y - center_y)**2)\n",
    "        bright_positions = np.where(bright_pixels)\n",
    "\n",
    "        if len(bright_positions[0]) > 0:\n",
    "            # Find the closest bright pixel to the center\n",
    "            dist_to_bright = distance[bright_positions]\n",
    "            closest_idx = np.argmin(dist_to_bright)\n",
    "            center_region = labeled_regions[bright_positions[0][closest_idx], \n",
    "                                            bright_positions[1][closest_idx]]\n",
    "    \n",
    "    # Create mask for the central region\n",
    "    central_region = labeled_regions == center_region\n",
    "    \n",
    "    # Combine masks to get final PSF selection\n",
    "    final_mask = central_region\n",
    "\n",
    "    # Plot the PSF for each star\n",
    "    ax[i].imshow(star_cutout, norm=norm, origin='lower', cmap='gray')\n",
    "    ax[i].contour(final_mask, levels=[0.5], colors='red', linewidths=2)\n",
    "\n",
    "    ax[i].set_title(f'Star {i+1} PSF')\n",
    "    ax[i].axis('off')\n",
    "\n",
    "plt.show()\n"
   ]
  },
  {
   "cell_type": "markdown",
   "id": "7573cabc",
   "metadata": {},
   "source": [
    "## Visualize the Measured Stellar Flux and Flux Ratio\n",
    "We then show how to display the measured flux of the all the stars to facilitate the reference star selection. Keep in mind that Star 1 should always be your main target.\n",
    "\n",
    "The cell bellow shows the measured flux from the inside of the PSF contour with the respective uncertainties for each star"
   ]
  },
  {
   "cell_type": "code",
   "execution_count": null,
   "id": "1511b21f",
   "metadata": {},
   "outputs": [],
   "source": [
    "# Define the figure to plot the measured flux of each star over time\n",
    "fig, ax = plt.subplots(figsize=(10, 6))\n",
    "\n",
    "# Interpolate over the number of stars to plot their fluxes\n",
    "for i in range(num_stars):\n",
    "    ax.errorbar(psf_photometry_df['BJD'], psf_photometry_df[f'Flux_Star_{i+1}'], \\\n",
    "                yerr=psf_photometry_df[f'Flux_err_Star_{i+1}'], fmt='.', \\\n",
    "                capsize=3, label=f'Star {i+1}')\n",
    "\n",
    "ax.set_xlabel('BJD')\n",
    "ax.set_ylabel('Flux')\n",
    "ax.legend()\n",
    "\n",
    "plt.show()"
   ]
  },
  {
   "cell_type": "markdown",
   "id": "57f8b03b",
   "metadata": {},
   "source": [
    "Finally, we look at the flux ratio between the main target relative to a reference star. You can change the variables `main_star_id` and `ref_star_id` to select the ID for the main target and the reference target respectively.\n",
    "\n",
    "The flux ratio is then propagated from the flux uncertainty from each star as:\n",
    "\n",
    "$\\sigma_{F_{ratio}} = F_{ratio} \\sqrt{(\\frac{\\sigma_{F_{main}}}{F_{main}})^2 + (\\frac{\\sigma_{F_{ref}}}{F_{ref}})^2}$"
   ]
  },
  {
   "cell_type": "code",
   "execution_count": null,
   "id": "b30113ee",
   "metadata": {},
   "outputs": [],
   "source": [
    "# Define the main and reference star identifiers to compute the flux ratio\n",
    "main_star_id = 1  # Main target star\n",
    "ref_star_id = 2 # Change this based on which star you want as reference\n"
   ]
  },
  {
   "cell_type": "code",
   "execution_count": null,
   "id": "0a0b7262",
   "metadata": {},
   "outputs": [],
   "source": [
    "# Measure the flux ratio between the main target and the reference star and the associated error\n",
    "flux_ratio = psf_photometry_df[f'Flux_Star_{main_star_id}'] / psf_photometry_df[f'Flux_Star_{ref_star_id}']\n",
    "flux_ratio_err = flux_ratio * np.sqrt((psf_photometry_df[f'Flux_err_Star_{main_star_id}'] / psf_photometry_df[f'Flux_Star_{main_star_id}'])**2. + \\\n",
    "                                      (psf_photometry_df[f'Flux_err_Star_{ref_star_id}'] / psf_photometry_df[f'Flux_Star_{ref_star_id}'])**2.)\n",
    "\n",
    "\n",
    "# Plot the flux ratio over time\n",
    "fig, ax = plt.subplots(figsize=(8, 5), tight_layout=True)\n",
    "ax.set_title(f'Flux Ratio {object_name}')\n",
    "ax.errorbar(psf_photometry_df['BJD'], flux_ratio, yerr=flux_ratio_err, fmt='.', label='PSF Photometry', color='k', capsize=3)\n",
    "ax.set_xlabel('BJD')\n",
    "ax.set_ylabel(f'Flux Ratio (Star {main_star_id} / Star {ref_star_id})')\n",
    "plt.show()\n"
   ]
  },
  {
   "cell_type": "code",
   "execution_count": null,
   "id": "b9e8cf4b",
   "metadata": {},
   "outputs": [],
   "source": []
  }
 ],
 "metadata": {
  "kernelspec": {
   "display_name": "python3.8",
   "language": "python",
   "name": "python3"
  },
  "language_info": {
   "codemirror_mode": {
    "name": "ipython",
    "version": 3
   },
   "file_extension": ".py",
   "mimetype": "text/x-python",
   "name": "python",
   "nbconvert_exporter": "python",
   "pygments_lexer": "ipython3",
   "version": "3.8.20"
  }
 },
 "nbformat": 4,
 "nbformat_minor": 5
}
